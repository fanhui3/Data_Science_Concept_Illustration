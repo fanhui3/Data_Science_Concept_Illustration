{
 "cells": [
  {
   "cell_type": "markdown",
   "id": "73481fa0",
   "metadata": {},
   "source": [
    "# Statistical Concept Illustration"
   ]
  },
  {
   "cell_type": "code",
   "execution_count": 43,
   "id": "a4557a10",
   "metadata": {},
   "outputs": [],
   "source": [
    "import pandas as pd\n",
    "import seaborn as sns\n",
    "import numpy as np\n",
    "import matplotlib.pyplot as plt\n",
    "import random\n",
    "\n",
    "#machine learning packages\n",
    "from sklearn.model_selection import train_test_split\n",
    "from sklearn.metrics import confusion_matrix, accuracy_score\n",
    "from sklearn.metrics import roc_auc_score\n",
    "from sklearn.metrics import r2_score\n",
    "\n",
    "#models\n",
    "from sklearn.linear_model import LinearRegression\n",
    "from sklearn.linear_model import Lasso\n",
    "from sklearn.tree import DecisionTreeClassifier\n",
    "\n",
    "#export object\n",
    "import joblib"
   ]
  },
  {
   "cell_type": "markdown",
   "id": "f0dd83be",
   "metadata": {},
   "source": [
    "# For 1) overfitting and 2) regularisation, we will use melborne housing price to illustrate"
   ]
  },
  {
   "cell_type": "code",
   "execution_count": 4,
   "id": "824ed874",
   "metadata": {},
   "outputs": [],
   "source": [
    "df = pd.read_csv(\"Melbourne_housing_FULL.csv\")"
   ]
  },
  {
   "cell_type": "markdown",
   "id": "855407e0",
   "metadata": {},
   "source": [
    "## clean and preprocess data "
   ]
  },
  {
   "cell_type": "code",
   "execution_count": 5,
   "id": "4ae65ac1",
   "metadata": {},
   "outputs": [],
   "source": [
    "#trim dataset\n",
    "df = df[['Suburb', 'Rooms', 'Type', 'Price', 'Method', 'SellerG', 'Distance', \"CouncilArea\", 'Bedroom2', 'Bathroom', 'Car',\n",
    "       'Landsize', 'BuildingArea','Regionname', 'Propertycount']]\n",
    "\n",
    "#missing value treatment\n",
    "df[[\"Propertycount\", \"Distance\", \"Bedroom2\", \"Bathroom\", \"Car\"]] = df[[\"Propertycount\", \"Distance\", \"Bedroom2\", \"Bathroom\", \"Car\"]].fillna(0)\n",
    "df[\"Landsize\"] = df[\"Landsize\"].fillna(df[\"Landsize\"].mean())\n",
    "df[\"BuildingArea\"] = df[\"BuildingArea\"].fillna(df[\"BuildingArea\"].mean())\n",
    "df.dropna(inplace=True)\n",
    "\n",
    "#create dummy variables for categorical columns\n",
    "cat_varibles = ['Type', 'Suburb', \"Method\",\"SellerG\", \"CouncilArea\", \"Regionname\"]\n",
    "\n",
    "for col in cat_varibles:\n",
    "    dummy = pd.get_dummies(df[col])\n",
    "    df.drop(col,axis=\"columns\", inplace=True)\n",
    "    df = pd.concat([df,dummy], axis=\"columns\")"
   ]
  },
  {
   "cell_type": "markdown",
   "id": "fc5c3239",
   "metadata": {},
   "source": [
    "## train test split "
   ]
  },
  {
   "cell_type": "code",
   "execution_count": 6,
   "id": "bba7d1f4",
   "metadata": {},
   "outputs": [],
   "source": [
    "X_train, X_test, y_train, y_test = train_test_split(df.drop(\"Price\", axis=\"columns\"), df[\"Price\"], \n",
    "                                                    test_size = 0.2, random_state = 42)"
   ]
  },
  {
   "cell_type": "markdown",
   "id": "8595066a",
   "metadata": {},
   "source": [
    "# 1) Overfitting\n",
    "\n",
    "overfitting a model refers to when the model was fitting too well to the training data and resulted to poor prediction on the test data. This is also refer to as that the model has high variance. \n",
    "\n",
    "Some reasons are as follows: \n",
    "1. Data is not clean \n",
    "2. High variance\n",
    "3. size of training data is not enough\n",
    "4. model is too complex\n",
    "\n",
    "Let's see the example on the melborne training dataset when you fit a regular linear regression model\n"
   ]
  },
  {
   "cell_type": "code",
   "execution_count": 7,
   "id": "19d691fa",
   "metadata": {},
   "outputs": [],
   "source": [
    "#initialise\n",
    "regress = LinearRegression() \n",
    "\n",
    "#fitting (training)\n",
    "regress.fit(X_train, y_train)\n",
    "\n",
    "# predicting (testing)\n",
    "y_pred = regress.predict(X_test)\n",
    "\n",
    "#creating a coefficent table\n",
    "coef_table = pd.DataFrame(list(X_train.columns)).copy()\n",
    "coef_table.insert(len(coef_table.columns), \"Coefs\", regress.coef_.transpose())\n",
    "coef_table = coef_table[[0,\"Coefs\"]]\n",
    "coef_table.columns = [\"Variables\", \"Coefficient\"]"
   ]
  },
  {
   "cell_type": "markdown",
   "id": "6d536da8",
   "metadata": {},
   "source": [
    "### Observation 1: the predicted result on the training data has a R2 score of 0.62. It is moderately accurate"
   ]
  },
  {
   "cell_type": "code",
   "execution_count": 8,
   "id": "a0c53b04",
   "metadata": {},
   "outputs": [
    {
     "data": {
      "text/plain": [
       "0.6777287226519022"
      ]
     },
     "execution_count": 8,
     "metadata": {},
     "output_type": "execute_result"
    }
   ],
   "source": [
    "regress.score(X_train, y_train)"
   ]
  },
  {
   "cell_type": "markdown",
   "id": "119909d5",
   "metadata": {},
   "source": [
    "### Obervation 2 The predicted result on test data produce a negative R2 score. Meaning it fits worse than a horizontal line. "
   ]
  },
  {
   "cell_type": "code",
   "execution_count": 9,
   "id": "a08ecf0a",
   "metadata": {},
   "outputs": [
    {
     "data": {
      "text/plain": [
       "-8783056700.649033"
      ]
     },
     "execution_count": 9,
     "metadata": {},
     "output_type": "execute_result"
    }
   ],
   "source": [
    "regress.score(X_test, y_test)"
   ]
  },
  {
   "cell_type": "markdown",
   "id": "0da9a84e",
   "metadata": {},
   "source": [
    "### Conclusion: The huge disparity in performance in training and test data performance indicated that the model is overfitted"
   ]
  },
  {
   "cell_type": "markdown",
   "id": "ee2f7373",
   "metadata": {},
   "source": [
    "# 2) Regularization\n",
    "To avoid overfitting, a function is added to the MSE to penalise large theta values that is \"overdominating\" the model"
   ]
  },
  {
   "cell_type": "code",
   "execution_count": 10,
   "id": "deb2534a",
   "metadata": {},
   "outputs": [
    {
     "name": "stderr",
     "output_type": "stream",
     "text": [
      "C:\\Users\\FAN_HUI\\anaconda3\\lib\\site-packages\\sklearn\\linear_model\\_coordinate_descent.py:530: ConvergenceWarning: Objective did not converge. You might want to increase the number of iterations. Duality gap: 1498753440402655.2, tolerance: 896116484967959.0\n",
      "  model = cd_fast.enet_coordinate_descent(\n"
     ]
    }
   ],
   "source": [
    "lasso_regress = Lasso(alpha=42, max_iter=100, tol=0.1)\n",
    "\n",
    "#fitting (training)\n",
    "lasso_regress.fit(X_train, y_train)\n",
    "\n",
    "# predicting (testing)\n",
    "y_pred = lasso_regress.predict(X_test)\n",
    "\n",
    "#creating a coefficent table\n",
    "coef_table_lasso = pd.DataFrame(list(X_train.columns)).copy()\n",
    "coef_table_lasso.insert(len(coef_table_lasso.columns), \"Coefs\", lasso_regress.coef_.transpose())\n",
    "coef_table_lasso = coef_table_lasso[[0,\"Coefs\"]]\n",
    "coef_table_lasso.columns = [\"Variables\", \"Coefficient\"]"
   ]
  },
  {
   "cell_type": "markdown",
   "id": "5d619635",
   "metadata": {},
   "source": [
    "### Observation 1:  After regularisation of the Thetas, the testing and training result are closer"
   ]
  },
  {
   "cell_type": "code",
   "execution_count": 11,
   "id": "8a17f4a3",
   "metadata": {},
   "outputs": [
    {
     "data": {
      "text/plain": [
       "0.6739717849145501"
      ]
     },
     "execution_count": 11,
     "metadata": {},
     "output_type": "execute_result"
    }
   ],
   "source": [
    "lasso_regress.score(X_train, y_train)"
   ]
  },
  {
   "cell_type": "code",
   "execution_count": 12,
   "id": "5c05db7b",
   "metadata": {},
   "outputs": [
    {
     "data": {
      "text/plain": [
       "0.6844577002785179"
      ]
     },
     "execution_count": 12,
     "metadata": {},
     "output_type": "execute_result"
    }
   ],
   "source": [
    "lasso_regress.score(X_test, y_test)"
   ]
  },
  {
   "cell_type": "markdown",
   "id": "931a5900",
   "metadata": {},
   "source": [
    "### Observation 2:  Graphs below shows the coefficient values before (top) and after (bottom) regularisation. As expected, the range of coefficients is reduced, and more variables are making meaningful contribution to the prediction"
   ]
  },
  {
   "cell_type": "code",
   "execution_count": 13,
   "id": "2ed20346",
   "metadata": {},
   "outputs": [
    {
     "data": {
      "image/png": "[encoded data removed]",
      "text/plain": [
       "<Figure size 432x288 with 1 Axes>"
      ]
     },
     "metadata": {
      "needs_background": "light"
     },
     "output_type": "display_data"
    }
   ],
   "source": [
    "fig = plt.figure()\n",
    "plt.bar(coef_table[\"Variables\"], coef_table[\"Coefficient\"])\n",
    "\n",
    "plt.suptitle('Coefficients before regularization', fontsize=20)\n",
    "plt.xlabel('Variables', fontsize=18)\n",
    "plt.ylabel('Coefficient values', fontsize=16)\n",
    "\n",
    "plt.show()"
   ]
  },
  {
   "cell_type": "code",
   "execution_count": 14,
   "id": "1da27cf8",
   "metadata": {},
   "outputs": [
    {
     "data": {
      "image/png": "[encoded data removed]",
      "text/plain": [
       "<Figure size 432x288 with 1 Axes>"
      ]
     },
     "metadata": {
      "needs_background": "light"
     },
     "output_type": "display_data"
    }
   ],
   "source": [
    "fig = plt.figure()\n",
    "plt.bar(coef_table_lasso[\"Variables\"], coef_table_lasso[\"Coefficient\"])\n",
    "\n",
    "plt.suptitle('Coefficients after regularization', fontsize=20)\n",
    "plt.xlabel('Variables', fontsize=18)\n",
    "plt.ylabel('Coefficient values', fontsize=16)\n",
    "plt.show()"
   ]
  },
  {
   "cell_type": "markdown",
   "id": "96b9f0c7",
   "metadata": {},
   "source": [
    "# 3) Ensemble\n",
    "* This is techniques that aim at improving the accuracy of results in models by combining multiple models instead of using a single model\n",
    "* We will use the loan default dataset as an example\n",
    "* We will train 71 trees, each one trained with 70% of randomly selected columns and record the score of each tree on the test data\n",
    "* Lastly, for ensemble method, we will let each of the 71 tree vote on the prediction and pass the prediction as the most voted result, and record the accuracy using the ensemble method "
   ]
  },
  {
   "cell_type": "code",
   "execution_count": 21,
   "id": "8e3bb60d",
   "metadata": {},
   "outputs": [],
   "source": [
    "df = pd.read_csv(\"cleaned_borrower_profile.csv\")"
   ]
  },
  {
   "cell_type": "code",
   "execution_count": 22,
   "id": "f87d8fa4",
   "metadata": {},
   "outputs": [],
   "source": [
    "#quick preprocessing to get it ready for training - testing\n",
    "# balancing the data. Make the 2 class 50:50\n",
    "default_class = {}\n",
    "\n",
    "for y in set(list(df[\"status\"])):\n",
    "    default_class[y] = df[df[\"status\"] == y]\n",
    "    \n",
    "expanded_defaulter = default_class[1].sample(n=len(default_class[0]),replace=True)\n",
    "\n",
    "df = pd.concat([default_class[0], expanded_defaulter],axis=\"index\")\n",
    "df[\"status\"].value_counts(normalize=True)\n",
    "\n",
    "#one hot encoding\n",
    "cat_varibles = ['gender', 'maritalstatus', \"jobpos\"]\n",
    "\n",
    "for col in cat_varibles:\n",
    "    dummy = pd.get_dummies(df[col])\n",
    "    df.drop(col,axis=\"columns\", inplace=True)\n",
    "    df = pd.concat([df,dummy], axis=\"columns\")\n",
    "    \n",
    "# train test split\n",
    "X_train, X_test, y_train, y_test = train_test_split(df.drop(\"status\", axis=\"columns\"), df[\"status\"], \n",
    "                                                    test_size = 0.2, random_state = 42)"
   ]
  },
  {
   "cell_type": "code",
   "execution_count": 63,
   "id": "14c8dd18",
   "metadata": {},
   "outputs": [],
   "source": [
    "#pre-loop setting\n",
    "column_portion = round(len(list(X_train.columns)) * 0.7)\n",
    "compiled_y_test = pd.DataFrame(y_test.copy())\n",
    "auc_tree_score = []\n",
    "\n",
    "#train each tree and record predictive performance\n",
    "for i in range(1,72):\n",
    "    #random sample columns for training\n",
    "    column_current_tree = random.sample(list(X_train.columns), column_portion)\n",
    "    X_train_subset = X_train.copy()\n",
    "    X_train_subset = X_train_subset[column_current_tree]\n",
    "    X_test_subset = X_test.copy()\n",
    "    X_test_subset = X_test_subset[column_current_tree]\n",
    "\n",
    "    #initialise tree for training\n",
    "    Tree = DecisionTreeClassifier(criterion = 'entropy', random_state = 42)\n",
    "    Tree.fit(X_train_subset, y_train)\n",
    "    \n",
    "    #append prediction for each row\n",
    "    y_pred = pd.Series(Tree.predict(X_test_subset), name=(\"Tree\" + str(i)))\n",
    "    compiled_y_test = pd.concat([compiled_y_test.reset_index(drop=True), y_pred], axis = \"columns\")\n",
    "    \n",
    "    #append AUC performance for each tree\n",
    "    auc_tree_score.append(roc_auc_score(y_test, y_pred))"
   ]
  },
  {
   "cell_type": "markdown",
   "id": "a8600e2b",
   "metadata": {},
   "source": [
    "### observation 1: with 71 trees, you can observe a distribution of AUC score. Mostly within the range of 0.80 to 0.90, with best peroforming tree at AUC of 0.896"
   ]
  },
  {
   "cell_type": "code",
   "execution_count": 71,
   "id": "a89b84f9",
   "metadata": {},
   "outputs": [
    {
     "name": "stdout",
     "output_type": "stream",
     "text": [
      "best performing tree has AUC of: 0.8961398570135527\n"
     ]
    },
    {
     "data": {
      "image/png": "[encoded data removed]",
      "text/plain": [
       "<Figure size 360x360 with 1 Axes>"
      ]
     },
     "metadata": {
      "needs_background": "light"
     },
     "output_type": "display_data"
    }
   ],
   "source": [
    "sns.displot(auc_tree_score);\n",
    "print(\"best performing tree has AUC of: \" + str(max(auc_tree_score)))"
   ]
  },
  {
   "cell_type": "markdown",
   "id": "d120cf9f",
   "metadata": {},
   "source": [
    "### Obseration 2: For ensemble method, we allow each tree a voting right. Allow the prediction for each dataset to be the most-voted prediction. As expected, the AUC for ensembled method performed better than all the indvidual trees at 89.9% AUC"
   ]
  },
  {
   "cell_type": "code",
   "execution_count": 78,
   "id": "d54ef2c4",
   "metadata": {},
   "outputs": [],
   "source": [
    "ensembled_pred = compiled_y_test.drop('status',axis=\"columns\")\n",
    "compiled_y_test[\"ensembled prediction\"] = ensembled_pred.mode(axis=1)"
   ]
  },
  {
   "cell_type": "code",
   "execution_count": 79,
   "id": "4ed2f3a7",
   "metadata": {},
   "outputs": [
    {
     "data": {
      "text/plain": [
       "0.8994268234735091"
      ]
     },
     "execution_count": 79,
     "metadata": {},
     "output_type": "execute_result"
    }
   ],
   "source": [
    "accuracy_score(compiled_y_test[\"ensembled prediction\"] , y_pred)"
   ]
  },
  {
   "cell_type": "code",
   "execution_count": null,
   "id": "79449ffb",
   "metadata": {},
   "outputs": [],
   "source": []
  }
 ],
 "metadata": {
  "kernelspec": {
   "display_name": "Python 3",
   "language": "python",
   "name": "python3"
  },
  "language_info": {
   "codemirror_mode": {
    "name": "ipython",
    "version": 3
   },
   "file_extension": ".py",
   "mimetype": "text/x-python",
   "name": "python",
   "nbconvert_exporter": "python",
   "pygments_lexer": "ipython3",
   "version": "3.8.8"
  }
 },
 "nbformat": 4,
 "nbformat_minor": 5
}
